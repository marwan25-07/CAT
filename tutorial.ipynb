{
 "cells": [
  {
   "cell_type": "markdown",
   "id": "ca5ded58-e3ce-4ba8-b656-faf28b9a9980",
   "metadata": {},
   "source": [
    "# Make Predictions on the Most Optimal Solvent for your Reaction using ML Model \n",
    "\n",
    "Before you run this script:\n",
    "- make sure to download the model weight file and store file in a known location to pass it as an argument when calling the model"
   ]
  },
  {
   "cell_type": "code",
   "execution_count": null,
   "id": "5d3c51b4-15a3-43af-a5f8-4449e760b4f9",
   "metadata": {},
   "outputs": [],
   "source": []
  },
  {
   "cell_type": "code",
   "execution_count": 23,
   "id": "2319d1c6-c856-40bb-a6d1-c72ff4fef2be",
   "metadata": {},
   "outputs": [],
   "source": [
    "import importlib\n",
    "import smodel \n",
    "importlib.reload(smodel)\n",
    "from smodel import vae "
   ]
  },
  {
   "cell_type": "code",
   "execution_count": 24,
   "id": "888e2caa-ec6c-464b-ba77-c551afe76465",
   "metadata": {},
   "outputs": [],
   "source": [
    "#Create model, insert your model weight file \n",
    "model = vae(\"C:/Users/k2477436/OneDrive - King's College London/Desktop/model_details/weights/model_weights.pkl\")"
   ]
  },
  {
   "cell_type": "code",
   "execution_count": 26,
   "id": "0bc623ac-c97d-4f35-9206-b3a2669c5212",
   "metadata": {},
   "outputs": [
    {
     "data": {
      "text/plain": [
       "(SMILES string             CI\n",
       " Solvent          iodomethane\n",
       " n                      1.538\n",
       " n25                    1.527\n",
       " g                      43.67\n",
       " e                      6.865\n",
       " f                        0.0\n",
       " y                        0.0\n",
       " a                        0.0\n",
       " b                       0.13\n",
       " Name: 129, dtype: object,\n",
       " -251008.953125)"
      ]
     },
     "execution_count": 26,
     "metadata": {},
     "output_type": "execute_result"
    }
   ],
   "source": [
    "#Predict Optimal Solvent\n",
    "optimal_solvents = model.optimise('C[C:2](=[O:1])[OH:1]>>C[C:2](=[O:1])OCC')\n",
    "optimal_solvents"
   ]
  },
  {
   "cell_type": "code",
   "execution_count": null,
   "id": "398ae137-91fa-46bf-aace-d8df442953d4",
   "metadata": {},
   "outputs": [],
   "source": []
  },
  {
   "cell_type": "code",
   "execution_count": null,
   "id": "4d09cd71-0c99-41c5-81fd-8f8447668fcb",
   "metadata": {},
   "outputs": [],
   "source": []
  }
 ],
 "metadata": {
  "kernelspec": {
   "display_name": "Python 3 (ipykernel)",
   "language": "python",
   "name": "python3"
  },
  "language_info": {
   "codemirror_mode": {
    "name": "ipython",
    "version": 3
   },
   "file_extension": ".py",
   "mimetype": "text/x-python",
   "name": "python",
   "nbconvert_exporter": "python",
   "pygments_lexer": "ipython3",
   "version": "3.12.4"
  }
 },
 "nbformat": 4,
 "nbformat_minor": 5
}
