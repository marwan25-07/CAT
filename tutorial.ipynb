{
 "cells": [
  {
   "cell_type": "markdown",
   "id": "ca5ded58-e3ce-4ba8-b656-faf28b9a9980",
   "metadata": {},
   "source": [
    "# Make Predictions on the Most Optimal Solvent for your Reaction using ML Model \n",
    "\n",
    "Before you run this script:\n",
    "- Make sure to download both 'model_weights' and solvent.pkl and 'solvent_reaction_scale.pkl' files that within the 'weights' directory. Then download the 'Final_Cleaned_Minnesota Solvent Database.xls' file, which is under the 'data' directory.",
    "- Store these files in a known location to pass their filepaths as an argument when calling the model."
   ]
  },
  {
   "cell_type": "code",
   "execution_count": null,
   "id": "5d3c51b4-15a3-43af-a5f8-4449e760b4f9",
   "metadata": {},
   "outputs": [],
   "source": []
  },
  {
   "cell_type": "code",
   "execution_count": 2,
   "id": "2319d1c6-c856-40bb-a6d1-c72ff4fef2be",
   "metadata": {},
   "outputs": [],
   "source": [
    "import CAT \n",
    "from CAT import vae "
   ]
  },
  {
   "cell_type": "code",
   "execution_count": 4,
   "id": "888e2caa-ec6c-464b-ba77-c551afe76465",
   "metadata": {},
   "outputs": [],
   "source": [
    "#Create model, insert your model weight and solvent file path \n",
    "model = vae(model_weights=\"model_weights.pkl\", \n",
    "            solvent_library='Final_Cleaned_Minnesota Solvent Database.xls',\n",
    "            scaler_weights ='solvent_reaction_scale.pkl')"
   ]
  },
  {
   "cell_type": "code",
   "execution_count": 5,
   "id": "0bc623ac-c97d-4f35-9206-b3a2669c5212",
   "metadata": {},
   "outputs": [
    {
     "data": {
      "text/plain": [
       "'Best Solvent: 1,2-dibromoethane'"
      ]
     },
     "execution_count": 5,
     "metadata": {},
     "output_type": "execute_result"
    }
   ],
   "source": [
    "#Predict Optimal Solvent\n",
    "optimal_solvents = model.optimise('C[C:2](=[O:1])[OH:1]>>C[C:2](=[O:1])OCC')\n",
    "optimal_solvents"
   ]
  },
  {
   "cell_type": "code",
   "execution_count": null,
   "id": "398ae137-91fa-46bf-aace-d8df442953d4",
   "metadata": {},
   "outputs": [],
   "source": []
  }
 ],
 "metadata": {
  "kernelspec": {
   "display_name": "Python 3 (ipykernel)",
   "language": "python",
   "name": "python3"
  },
  "language_info": {
   "codemirror_mode": {
    "name": "ipython",
    "version": 3
   },
   "file_extension": ".py",
   "mimetype": "text/x-python",
   "name": "python",
   "nbconvert_exporter": "python",
   "pygments_lexer": "ipython3",
   "version": "3.12.7"
  }
 },
 "nbformat": 4,
 "nbformat_minor": 5
}
